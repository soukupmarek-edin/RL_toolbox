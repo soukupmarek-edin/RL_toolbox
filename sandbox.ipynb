{
 "cells": [
  {
   "cell_type": "code",
   "execution_count": 1,
   "id": "divided-julian",
   "metadata": {},
   "outputs": [],
   "source": [
    "import numpy as np\n",
    "import pandas as pd\n",
    "import matplotlib.pyplot as plt\n",
    "\n",
    "from scipy import stats, integrate"
   ]
  },
  {
   "cell_type": "markdown",
   "id": "million-conditions",
   "metadata": {},
   "source": [
    "# Discrete auction"
   ]
  },
  {
   "cell_type": "markdown",
   "id": "charming-armor",
   "metadata": {},
   "source": [
    "## bidder with budget"
   ]
  },
  {
   "cell_type": "code",
   "execution_count": 109,
   "id": "ethical-expansion",
   "metadata": {},
   "outputs": [
    {
     "name": "stdout",
     "output_type": "stream",
     "text": [
      "4.753341308774637\n"
     ]
    }
   ],
   "source": [
    "from utils import ContinuousDistribution, DiscreteDistribution\n",
    "from MDP.mdp_solver import ValueIteration, PolicyIteration\n",
    "\n",
    "n_bidders = 5\n",
    "# dst = stats.lognorm(s=0.5, loc=0, scale=np.exp(0.5))\n",
    "# dst = stats.uniform(0,10)\n",
    "# dist = ContinuousDistribution(dst)\n",
    "\n",
    "dst = stats.geom(p=0.5)\n",
    "dist = DiscreteDistribution(dst)\n",
    "print(dist.exp_fos(n_bidders))\n",
    "\n",
    "budget_init = 6\n",
    "valuation = 6\n",
    "states = np.arange(budget_init+1)\n",
    "actions = np.arange(budget_init+1)\n",
    "\n",
    "P = np.zeros((states.size, actions.size, states.size))\n",
    "R = np.zeros((states.size, actions.size, states.size))\n",
    "\n",
    "for s in range(states.size):\n",
    "    for a in range(actions.size):\n",
    "        if s >= a:\n",
    "            P[s, a, s-a] = dist.fos_cdf(a, n_bidders)\n",
    "            P[s, a, s] = 1-dist.fos_cdf(a, n_bidders)\n",
    "        else:\n",
    "            P[s, a, s] = 1\n",
    "\n",
    "        if s >= a:\n",
    "            R[s, a, s-a] = valuation-a\n",
    "            R[s, 0, s] = 0"
   ]
  },
  {
   "cell_type": "code",
   "execution_count": 110,
   "id": "resistant-procurement",
   "metadata": {},
   "outputs": [
    {
     "data": {
      "text/plain": [
       "<matplotlib.lines.Line2D at 0x2140e584640>"
      ]
     },
     "execution_count": 110,
     "metadata": {},
     "output_type": "execute_result"
    },
    {
     "data": {
      "image/png": "[encoded data removed]",
      "text/plain": [
       "<Figure size 432x288 with 1 Axes>"
      ]
     },
     "metadata": {
      "needs_background": "light"
     },
     "output_type": "display_data"
    }
   ],
   "source": [
    "supp = np.arange(10)\n",
    "# plt.stem(supp, dist.pmf(supp))\n",
    "plt.stem(supp, dist.fos_pmf(supp, n_bidders))\n",
    "# plt.stem(supp, dist.sos_pmf(supp, n_bidders))\n",
    "plt.axvline(dist.exp_fos(n_bidders))"
   ]
  },
  {
   "cell_type": "code",
   "execution_count": 119,
   "id": "classical-facility",
   "metadata": {},
   "outputs": [
    {
     "data": {
      "text/plain": [
       "array([ 0.  ,  3.82,  6.7 ,  8.88, 10.53, 12.39, 13.97])"
      ]
     },
     "execution_count": 119,
     "metadata": {},
     "output_type": "execute_result"
    }
   ],
   "source": [
    "vi = ValueIteration(P, R, gamma=0.99)\n",
    "policy, V = vi.solve()\n",
    "V.round(2)"
   ]
  },
  {
   "cell_type": "code",
   "execution_count": 120,
   "id": "downtown-chester",
   "metadata": {},
   "outputs": [
    {
     "data": {
      "text/plain": [
       "array([[1., 0., 0., 0., 0., 0., 0.],\n",
       "       [0., 1., 0., 0., 0., 0., 0.],\n",
       "       [0., 1., 0., 0., 0., 0., 0.],\n",
       "       [0., 1., 0., 0., 0., 0., 0.],\n",
       "       [0., 1., 0., 0., 0., 0., 0.],\n",
       "       [0., 0., 1., 0., 0., 0., 0.],\n",
       "       [0., 0., 1., 0., 0., 0., 0.]])"
      ]
     },
     "execution_count": 120,
     "metadata": {},
     "output_type": "execute_result"
    }
   ],
   "source": [
    "policy"
   ]
  },
  {
   "cell_type": "code",
   "execution_count": 121,
   "id": "recent-scott",
   "metadata": {},
   "outputs": [
    {
     "data": {
      "text/plain": [
       "array([[0.  , 0.  , 0.  , 0.  , 0.  , 0.  , 1.  ],\n",
       "       [0.  , 0.  , 0.  , 0.  , 0.  , 0.03, 0.97],\n",
       "       [0.  , 0.  , 0.  , 0.  , 0.24, 0.  , 0.76],\n",
       "       [0.  , 0.  , 0.  , 0.51, 0.  , 0.  , 0.49],\n",
       "       [0.  , 0.  , 0.72, 0.  , 0.  , 0.  , 0.28],\n",
       "       [0.  , 0.85, 0.  , 0.  , 0.  , 0.  , 0.15],\n",
       "       [0.92, 0.  , 0.  , 0.  , 0.  , 0.  , 0.08]])"
      ]
     },
     "execution_count": 121,
     "metadata": {},
     "output_type": "execute_result"
    }
   ],
   "source": [
    "s = 6\n",
    "P[s].round(2)"
   ]
  },
  {
   "cell_type": "code",
   "execution_count": 122,
   "id": "mediterranean-crossing",
   "metadata": {},
   "outputs": [
    {
     "data": {
      "text/plain": [
       "array([[0., 0., 0., 0., 0., 0., 0.],\n",
       "       [0., 0., 0., 0., 0., 5., 0.],\n",
       "       [0., 0., 0., 0., 4., 0., 0.],\n",
       "       [0., 0., 0., 3., 0., 0., 0.],\n",
       "       [0., 0., 2., 0., 0., 0., 0.],\n",
       "       [0., 1., 0., 0., 0., 0., 0.],\n",
       "       [0., 0., 0., 0., 0., 0., 0.]])"
      ]
     },
     "execution_count": 122,
     "metadata": {},
     "output_type": "execute_result"
    }
   ],
   "source": [
    "R[s]"
   ]
  },
  {
   "cell_type": "code",
   "execution_count": 123,
   "id": "japanese-mouth",
   "metadata": {},
   "outputs": [
    {
     "data": {
      "text/plain": [
       "array([[0.  , 0.  , 0.  , 0.  , 0.  , 0.  , 0.  ],\n",
       "       [0.  , 0.  , 0.  , 0.  , 0.  , 0.16, 0.  ],\n",
       "       [0.  , 0.  , 0.  , 0.  , 0.95, 0.  , 0.  ],\n",
       "       [0.  , 0.  , 0.  , 1.54, 0.  , 0.  , 0.  ],\n",
       "       [0.  , 0.  , 1.45, 0.  , 0.  , 0.  , 0.  ],\n",
       "       [0.  , 0.85, 0.  , 0.  , 0.  , 0.  , 0.  ],\n",
       "       [0.  , 0.  , 0.  , 0.  , 0.  , 0.  , 0.  ]])"
      ]
     },
     "execution_count": 123,
     "metadata": {},
     "output_type": "execute_result"
    }
   ],
   "source": [
    "np.round(P[s]*R[s], 2)"
   ]
  },
  {
   "cell_type": "markdown",
   "id": "religious-portfolio",
   "metadata": {},
   "source": [
    "## bidder with valuation"
   ]
  },
  {
   "cell_type": "code",
   "execution_count": 6,
   "id": "second-universal",
   "metadata": {},
   "outputs": [
    {
     "name": "stdout",
     "output_type": "stream",
     "text": [
      "3.7499999999998734\n"
     ]
    }
   ],
   "source": [
    "n_bidders = 3\n",
    "dst = stats.lognorm(s=0.5, loc=0, scale=np.exp(1))\n",
    "dst = stats.uniform(0,5)\n",
    "dist = Distribution(dst, n_bidders)\n",
    "print(dist.exp_fos())\n",
    "\n",
    "budget_init = 10\n",
    "states = np.arange(budget_init+1)\n",
    "actions = np.arange(budget_init+1)\n",
    "valuation = 6\n",
    "\n",
    "P = np.zeros((states.size, actions.size, states.size))\n",
    "R = np.zeros((states.size, actions.size, states.size))\n",
    "\n",
    "for s in range(states.size):\n",
    "    for a in range(actions.size):\n",
    "        for sn in range(states.size):\n",
    "            if s >= a:\n",
    "                P[s, a, s-a] = dist.fos_cdf(a)\n",
    "                P[s, a, s] = 1-dist.fos_cdf(a)\n",
    "            else:\n",
    "                P[s, a, s] = 1\n",
    "            \n",
    "            if s > sn and a <= s:\n",
    "                R[s, a, sn] = valuation-a\n",
    "            elif a > s:\n",
    "                R[s, a, sn] = -10"
   ]
  },
  {
   "cell_type": "code",
   "execution_count": 7,
   "id": "prescribed-simpson",
   "metadata": {},
   "outputs": [
    {
     "data": {
      "text/plain": [
       "array([[0.  , 0.  , 0.  , 0.  , 0.  , 0.  , 0.  , 0.  , 0.  , 0.  , 1.  ],\n",
       "       [0.  , 0.  , 0.  , 0.  , 0.  , 0.  , 0.  , 0.  , 0.  , 0.01, 0.99],\n",
       "       [0.  , 0.  , 0.  , 0.  , 0.  , 0.  , 0.  , 0.  , 0.06, 0.  , 0.94],\n",
       "       [0.  , 0.  , 0.  , 0.  , 0.  , 0.  , 0.  , 0.22, 0.  , 0.  , 0.78],\n",
       "       [0.  , 0.  , 0.  , 0.  , 0.  , 0.  , 0.51, 0.  , 0.  , 0.  , 0.49],\n",
       "       [0.  , 0.  , 0.  , 0.  , 0.  , 1.  , 0.  , 0.  , 0.  , 0.  , 0.  ],\n",
       "       [0.  , 0.  , 0.  , 0.  , 1.  , 0.  , 0.  , 0.  , 0.  , 0.  , 0.  ],\n",
       "       [0.  , 0.  , 0.  , 1.  , 0.  , 0.  , 0.  , 0.  , 0.  , 0.  , 0.  ],\n",
       "       [0.  , 0.  , 1.  , 0.  , 0.  , 0.  , 0.  , 0.  , 0.  , 0.  , 0.  ],\n",
       "       [0.  , 1.  , 0.  , 0.  , 0.  , 0.  , 0.  , 0.  , 0.  , 0.  , 0.  ],\n",
       "       [1.  , 0.  , 0.  , 0.  , 0.  , 0.  , 0.  , 0.  , 0.  , 0.  , 0.  ]])"
      ]
     },
     "execution_count": 7,
     "metadata": {},
     "output_type": "execute_result"
    }
   ],
   "source": [
    "P[10].round(2)"
   ]
  },
  {
   "cell_type": "code",
   "execution_count": 8,
   "id": "following-lover",
   "metadata": {},
   "outputs": [
    {
     "data": {
      "text/plain": [
       "array([[ 6.,  6.,  6.,  6.,  6.,  6.,  6.,  6.,  6.,  6.,  0.],\n",
       "       [ 5.,  5.,  5.,  5.,  5.,  5.,  5.,  5.,  5.,  5.,  0.],\n",
       "       [ 4.,  4.,  4.,  4.,  4.,  4.,  4.,  4.,  4.,  4.,  0.],\n",
       "       [ 3.,  3.,  3.,  3.,  3.,  3.,  3.,  3.,  3.,  3.,  0.],\n",
       "       [ 2.,  2.,  2.,  2.,  2.,  2.,  2.,  2.,  2.,  2.,  0.],\n",
       "       [ 1.,  1.,  1.,  1.,  1.,  1.,  1.,  1.,  1.,  1.,  0.],\n",
       "       [ 0.,  0.,  0.,  0.,  0.,  0.,  0.,  0.,  0.,  0.,  0.],\n",
       "       [-1., -1., -1., -1., -1., -1., -1., -1., -1., -1.,  0.],\n",
       "       [-2., -2., -2., -2., -2., -2., -2., -2., -2., -2.,  0.],\n",
       "       [-3., -3., -3., -3., -3., -3., -3., -3., -3., -3.,  0.],\n",
       "       [-4., -4., -4., -4., -4., -4., -4., -4., -4., -4.,  0.]])"
      ]
     },
     "execution_count": 8,
     "metadata": {},
     "output_type": "execute_result"
    }
   ],
   "source": [
    "R[10]"
   ]
  },
  {
   "cell_type": "code",
   "execution_count": 9,
   "id": "therapeutic-hindu",
   "metadata": {},
   "outputs": [
    {
     "data": {
      "text/plain": [
       "array([[1., 0., 0., 0., 0., 0., 0., 0., 0., 0., 0.],\n",
       "       [0., 1., 0., 0., 0., 0., 0., 0., 0., 0., 0.],\n",
       "       [0., 1., 0., 0., 0., 0., 0., 0., 0., 0., 0.],\n",
       "       [0., 0., 1., 0., 0., 0., 0., 0., 0., 0., 0.],\n",
       "       [0., 0., 1., 0., 0., 0., 0., 0., 0., 0., 0.],\n",
       "       [0., 0., 1., 0., 0., 0., 0., 0., 0., 0., 0.],\n",
       "       [0., 0., 1., 0., 0., 0., 0., 0., 0., 0., 0.],\n",
       "       [0., 0., 1., 0., 0., 0., 0., 0., 0., 0., 0.],\n",
       "       [0., 0., 1., 0., 0., 0., 0., 0., 0., 0., 0.],\n",
       "       [0., 0., 1., 0., 0., 0., 0., 0., 0., 0., 0.],\n",
       "       [0., 0., 1., 0., 0., 0., 0., 0., 0., 0., 0.]])"
      ]
     },
     "execution_count": 9,
     "metadata": {},
     "output_type": "execute_result"
    }
   ],
   "source": [
    "V = np.zeros(states.size)\n",
    "gamma = 0.995\n",
    "theta = 1e-10\n",
    "\n",
    "while True:\n",
    "    diff = 0\n",
    "    v = np.copy(V)\n",
    "    for s in range(states.size):\n",
    "        V[s] = (P[s] * (R[s]+gamma * v )).sum(axis=1).max()\n",
    "    diff = np.max([diff, np.max(np.abs(V-v))])\n",
    "    if diff<= theta:\n",
    "        break\n",
    "\n",
    "policy = np.zeros((states.size, actions.size))\n",
    "\n",
    "for s in range(states.size):\n",
    "    a = (P[s] * (R[s] + gamma * V)).sum(axis=1).argmax()\n",
    "    policy[s, a] = 1\n",
    "    \n",
    "policy"
   ]
  },
  {
   "cell_type": "code",
   "execution_count": 10,
   "id": "fantastic-october",
   "metadata": {},
   "outputs": [
    {
     "data": {
      "text/plain": [
       "array([ 0.        ,  3.08641975,  4.98209114,  6.58915565,  8.34681951,\n",
       "        9.83688747, 11.46659095, 12.84817988, 14.35923866, 15.64024599,\n",
       "       17.04129758])"
      ]
     },
     "execution_count": 10,
     "metadata": {},
     "output_type": "execute_result"
    }
   ],
   "source": [
    "V"
   ]
  },
  {
   "cell_type": "markdown",
   "id": "knowing-alloy",
   "metadata": {},
   "source": [
    "## bidder with limitless budget"
   ]
  },
  {
   "cell_type": "code",
   "execution_count": 11,
   "id": "strange-nightlife",
   "metadata": {},
   "outputs": [
    {
     "name": "stdout",
     "output_type": "stream",
     "text": [
      "6.666666666557474\n"
     ]
    }
   ],
   "source": [
    "n_bidders = 2\n",
    "dst = stats.lognorm(s=0.5, loc=0, scale=np.exp(1))\n",
    "dst = stats.uniform(0,10)\n",
    "dist = Distribution(dst, n_bidders)\n",
    "print(dist.exp_fos())\n",
    "\n",
    "state_names = ['win', 'lose']\n",
    "states = np.arange(2)\n",
    "actions = np.arange(11)\n",
    "valuation = 6\n",
    "\n",
    "P = np.zeros((states.size, actions.size, states.size))\n",
    "R = np.zeros((states.size, actions.size, states.size))\n",
    "\n",
    "for s in range(states.size):\n",
    "    for a in range(actions.size):\n",
    "        for sn in range(states.size):\n",
    "            if s == 0 and sn == 0:\n",
    "                P[s, a, s] = dist.fos_cdf(a)\n",
    "                R[s, a, sn] = valuation-a\n",
    "            elif s == 0 and sn == 1:\n",
    "                P[s, a, sn] = 1-dist.fos_cdf(a)\n",
    "            elif s == 1 and sn == 0:\n",
    "                P[s, a, sn] = dist.fos_cdf(a)\n",
    "                R[s, a, sn] = valuation-a\n",
    "            elif s == 1 and sn == 1:\n",
    "                P[s, a, sn] = 1-dist.fos_cdf(a)"
   ]
  },
  {
   "cell_type": "code",
   "execution_count": 12,
   "id": "recorded-carbon",
   "metadata": {},
   "outputs": [
    {
     "data": {
      "text/plain": [
       "array([[0., 0., 0., 0., 1., 0., 0., 0., 0., 0., 0.],\n",
       "       [0., 0., 0., 0., 1., 0., 0., 0., 0., 0., 0.]])"
      ]
     },
     "execution_count": 12,
     "metadata": {},
     "output_type": "execute_result"
    }
   ],
   "source": [
    "V = np.zeros(states.size)\n",
    "gamma = 0.99\n",
    "theta = 1e-5\n",
    "\n",
    "while True:\n",
    "    diff = 0\n",
    "    v = np.copy(V)\n",
    "    for s in range(states.size):\n",
    "        V[s] = (P[s] * (R[s]+gamma * v )).sum(axis=1).max()\n",
    "    diff = np.max([diff, np.max(np.abs(V-v))])\n",
    "    if diff<= theta:\n",
    "        break\n",
    "\n",
    "policy = np.zeros((states.size, actions.size))\n",
    "\n",
    "for s in range(states.size):\n",
    "    a = (P[s] * (R[s] + gamma * V)).sum(axis=1).argmax()\n",
    "    policy[s, a] = 1\n",
    "    \n",
    "policy"
   ]
  },
  {
   "cell_type": "markdown",
   "id": "baking-charlotte",
   "metadata": {},
   "source": [
    "## testing"
   ]
  },
  {
   "cell_type": "code",
   "execution_count": 13,
   "id": "radical-refrigerator",
   "metadata": {},
   "outputs": [
    {
     "name": "stdout",
     "output_type": "stream",
     "text": [
      "[42.37287274 38.1355846 ]\n"
     ]
    },
    {
     "data": {
      "text/plain": [
       "array([[0., 0., 1.],\n",
       "       [0., 1., 0.]])"
      ]
     },
     "execution_count": 13,
     "metadata": {},
     "output_type": "execute_result"
    }
   ],
   "source": [
    "states = np.array([0,1])\n",
    "actions = np.array([0,1,2])\n",
    "\n",
    "P = np.array([[[1, 0], [1, 0], [0.8, 0.2]], [[0, 1], [1, 0], [0.6, 0.4]]])\n",
    "R = np.array([[[2, 0], [0, 0], [5, 5]], [[0, 2], [0, 0], [-3, 5]]])\n",
    "\n",
    "V = np.zeros(states.size)\n",
    "gamma = 0.9\n",
    "theta = 1e-6\n",
    "\n",
    "while True:\n",
    "    diff = 0\n",
    "    v = np.copy(V)\n",
    "    for s in range(states.size):\n",
    "        V[s] = (P[s] * (R[s]+gamma * v )).sum(axis=1).max()\n",
    "    diff = np.max([diff, np.max(np.abs(V-v))])\n",
    "    if diff<= theta:\n",
    "        break\n",
    "\n",
    "policy = np.zeros((states.size, actions.size))\n",
    "\n",
    "for s in range(states.size):\n",
    "    a = (P[s] * (R[s] + gamma * V)).sum(axis=1).argmax()\n",
    "    policy[s, a] = 1\n",
    "    \n",
    "print(V)\n",
    "policy"
   ]
  },
  {
   "cell_type": "code",
   "execution_count": null,
   "id": "confidential-terminology",
   "metadata": {},
   "outputs": [],
   "source": []
  },
  {
   "cell_type": "code",
   "execution_count": null,
   "id": "graduate-kansas",
   "metadata": {},
   "outputs": [],
   "source": []
  },
  {
   "cell_type": "code",
   "execution_count": null,
   "id": "civil-evolution",
   "metadata": {},
   "outputs": [],
   "source": []
  }
 ],
 "metadata": {
  "kernelspec": {
   "display_name": "Python 3",
   "language": "python",
   "name": "python3"
  },
  "language_info": {
   "codemirror_mode": {
    "name": "ipython",
    "version": 3
   },
   "file_extension": ".py",
   "mimetype": "text/x-python",
   "name": "python",
   "nbconvert_exporter": "python",
   "pygments_lexer": "ipython3",
   "version": "3.8.5"
  }
 },
 "nbformat": 4,
 "nbformat_minor": 5
}
