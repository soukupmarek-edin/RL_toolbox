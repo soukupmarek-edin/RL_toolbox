{
 "cells": [
  {
   "cell_type": "code",
   "execution_count": 1,
   "id": "pretty-workstation",
   "metadata": {},
   "outputs": [],
   "source": [
    "import numpy as np\n",
    "import pandas as pd\n",
    "import matplotlib.pyplot as plt\n",
    "\n",
    "from scipy import stats, integrate"
   ]
  },
  {
   "cell_type": "markdown",
   "id": "joined-measure",
   "metadata": {},
   "source": [
    "# Discrete auction"
   ]
  },
  {
   "cell_type": "code",
   "execution_count": 29,
   "id": "contemporary-kansas",
   "metadata": {},
   "outputs": [
    {
     "data": {
      "text/plain": [
       "[<matplotlib.lines.Line2D at 0x28d3882ddf0>]"
      ]
     },
     "execution_count": 29,
     "metadata": {},
     "output_type": "execute_result"
    },
    {
     "data": {
      "image/png": "[encoded data removed]",
      "text/plain": [
       "<Figure size 432x288 with 1 Axes>"
      ]
     },
     "metadata": {
      "needs_background": "light"
     },
     "output_type": "display_data"
    }
   ],
   "source": [
    "class Distribution:\n",
    "    \n",
    "    def __init__(self, dist, N):\n",
    "        self.N = N\n",
    "        self.dist = dist\n",
    "        \n",
    "    def pdf(self, x):\n",
    "        return self.dist.pdf(x)\n",
    "    \n",
    "    def cdf(self, x):\n",
    "        return self.dist.cdf(x)\n",
    "\n",
    "    def fos_pdf(self, x):\n",
    "        N, cdf, pdf = self.N, self.dist.cdf, self.dist.pdf\n",
    "        return N*cdf(x)**(N-1)*pdf(x)\n",
    "        \n",
    "    def fos_cdf(self, x):\n",
    "        N, cdf, pdf = self.N, self.dist.cdf, self.dist.pdf\n",
    "        return cdf(x)**N\n",
    "    \n",
    "    def sos_pdf(self, x):\n",
    "        N, cdf, pdf = self.N, self.dist.cdf, self.dist.pdf\n",
    "        return N*(N-1)*(1-cdf(x))*cdf(x)**(N-2)*pdf(x)\n",
    "    \n",
    "    def sos_cdf(self, x):\n",
    "        N, cdf, pdf = self.N, self.dist.cdf, self.dist.pdf\n",
    "        return N*cdf(x)**(N-1) - (N-1)*cdf(x)**N\n",
    "    \n",
    "    def exp(self):\n",
    "        return integrate.quad(lambda x: x*self.pdf(x), -np.inf, np.inf)[0]\n",
    "    \n",
    "    def exp_fos(self):\n",
    "        return integrate.quad(lambda x: x*self.fos_pdf(x), -np.inf, np.inf)[0]\n",
    "    \n",
    "    def exp_sos(self):\n",
    "        return integrate.quad(lambda x: x*self.sos_pdf(x), -np.inf, np.inf)[0]\n",
    "    \n",
    "n_bidders = 10\n",
    "actions = np.arange(11)\n",
    "dst = stats.lognorm(s=0.5, loc=0, scale=np.exp(0.5))\n",
    "# dst = stats.uniform()\n",
    "dist = Distribution(dst, n_bidders)\n",
    "supp = np.linspace(0,10,500)\n",
    "\n",
    "exp = dist.exp()\n",
    "exp_fos = dist.exp_fos()\n",
    "exp_sos = dist.exp_sos()\n",
    "\n",
    "plt.plot(supp, dist.pdf(supp))\n",
    "plt.plot(supp, dist.fos_pdf(supp))\n",
    "plt.plot(supp, dist.sos_pdf(supp))\n",
    "# plt.axvline(exp)\n",
    "# plt.axvline(exp_fos)\n",
    "# plt.axvline(exp_sos)"
   ]
  },
  {
   "cell_type": "code",
   "execution_count": 86,
   "id": "improved-fields",
   "metadata": {},
   "outputs": [],
   "source": [
    "from collections import defaultdict\n",
    "from itertools import product, combinations\n",
    "\n",
    "n_bidders = 20\n",
    "actions = np.arange(11)\n",
    "dst = stats.lognorm(s=0.5, loc=0, scale=np.exp(1))\n",
    "# dst = stats.uniform()\n",
    "dist = Distribution(dst, n_bidders)\n",
    "\n",
    "budget_init = 20\n",
    "states = np.arange(budget_init)"
   ]
  },
  {
   "cell_type": "code",
   "execution_count": 87,
   "id": "reasonable-protection",
   "metadata": {},
   "outputs": [],
   "source": [
    "P = np.zeros((states.size, actions.size, states.size))\n",
    "R = np.zeros((states.size, actions.size, states.size))\n",
    "\n",
    "for b, s in enumerate(P):\n",
    "    for a in actions:\n",
    "        if b >= a:\n",
    "            P[b, a, b-a] = dist.fos_cdf(a)\n",
    "            P[b, a, b] = 1-dist.fos_cdf(a)\n",
    "            \n",
    "            R[b, a, :b] = 1"
   ]
  },
  {
   "cell_type": "code",
   "execution_count": 88,
   "id": "composite-uruguay",
   "metadata": {},
   "outputs": [
    {
     "data": {
      "text/plain": [
       "array([[1., 0., 0., 0., 0., 0., 0., 0., 0., 0., 0.],\n",
       "       [0., 1., 0., 0., 0., 0., 0., 0., 0., 0., 0.],\n",
       "       [0., 0., 1., 0., 0., 0., 0., 0., 0., 0., 0.],\n",
       "       [0., 0., 0., 1., 0., 0., 0., 0., 0., 0., 0.],\n",
       "       [0., 0., 0., 0., 1., 0., 0., 0., 0., 0., 0.],\n",
       "       [0., 0., 0., 0., 0., 1., 0., 0., 0., 0., 0.],\n",
       "       [0., 0., 0., 0., 0., 0., 1., 0., 0., 0., 0.],\n",
       "       [0., 0., 0., 0., 0., 0., 0., 1., 0., 0., 0.],\n",
       "       [0., 0., 0., 0., 0., 0., 0., 0., 1., 0., 0.],\n",
       "       [0., 0., 0., 0., 0., 1., 0., 0., 0., 0., 0.],\n",
       "       [0., 0., 0., 0., 0., 1., 0., 0., 0., 0., 0.],\n",
       "       [0., 0., 0., 0., 0., 0., 1., 0., 0., 0., 0.],\n",
       "       [0., 0., 0., 0., 0., 0., 1., 0., 0., 0., 0.],\n",
       "       [0., 0., 0., 0., 0., 0., 0., 1., 0., 0., 0.],\n",
       "       [0., 0., 0., 0., 0., 1., 0., 0., 0., 0., 0.],\n",
       "       [0., 0., 0., 0., 0., 1., 0., 0., 0., 0., 0.],\n",
       "       [0., 0., 0., 0., 0., 0., 1., 0., 0., 0., 0.],\n",
       "       [0., 0., 0., 0., 0., 0., 1., 0., 0., 0., 0.],\n",
       "       [0., 0., 0., 0., 0., 0., 1., 0., 0., 0., 0.],\n",
       "       [0., 0., 0., 0., 0., 0., 0., 1., 0., 0., 0.]])"
      ]
     },
     "execution_count": 88,
     "metadata": {},
     "output_type": "execute_result"
    }
   ],
   "source": [
    "V = np.zeros(states.size)\n",
    "gamma = 0.99\n",
    "theta = 1e-5\n",
    "\n",
    "while True:\n",
    "    diff = 0\n",
    "    v = np.copy(V)\n",
    "    for s in range(states.size):\n",
    "        V[s] = (P[s] * (R[s]+gamma * v )).sum(axis=1).max()\n",
    "    diff = np.max([diff, np.max(np.abs(V-v))])\n",
    "    if diff<= theta:\n",
    "        break\n",
    "\n",
    "policy = np.zeros((states.size, actions.size))\n",
    "\n",
    "for s in range(states.size):\n",
    "    a = (P[s] * (R[s] + gamma * V)).sum(axis=1).argmax()\n",
    "    policy[s, a] = 1\n",
    "    \n",
    "policy"
   ]
  },
  {
   "cell_type": "code",
   "execution_count": null,
   "id": "sought-suggestion",
   "metadata": {},
   "outputs": [],
   "source": []
  },
  {
   "cell_type": "code",
   "execution_count": null,
   "id": "unnecessary-serve",
   "metadata": {},
   "outputs": [],
   "source": []
  }
 ],
 "metadata": {
  "kernelspec": {
   "display_name": "Python 3",
   "language": "python",
   "name": "python3"
  },
  "language_info": {
   "codemirror_mode": {
    "name": "ipython",
    "version": 3
   },
   "file_extension": ".py",
   "mimetype": "text/x-python",
   "name": "python",
   "nbconvert_exporter": "python",
   "pygments_lexer": "ipython3",
   "version": "3.8.5"
  }
 },
 "nbformat": 4,
 "nbformat_minor": 5
}
